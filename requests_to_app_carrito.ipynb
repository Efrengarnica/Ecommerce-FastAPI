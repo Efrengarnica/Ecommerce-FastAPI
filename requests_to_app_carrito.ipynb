{
 "cells": [
  {
   "cell_type": "code",
   "execution_count": 23,
   "metadata": {},
   "outputs": [
    {
     "name": "stdout",
     "output_type": "stream",
     "text": [
      "200\n",
      "{}\n",
      "{}\n"
     ]
    }
   ],
   "source": [
    "import requests\n",
    "from uuid import UUID\n",
    "\n",
    "# Suponiendo que ya tienes un usuario registrado y conoces su UUID\n",
    "user_id = \"8b4d893c-7ccd-43e2-88d1-22de7c8163d3\"  # Ejemplo de UUID\n",
    "\n",
    "cart_data = {\n",
    "    \"user_id\": user_id\n",
    "}\n",
    "\n",
    "response = requests.post(\"http://localhost:8001/carts/\", json=cart_data)\n",
    "\n",
    "print(response.status_code)\n",
    "print(response.text)\n",
    "\n",
    "if response.status_code == 200:\n",
    "    print(response.json())\n"
   ]
  },
  {
   "cell_type": "code",
   "execution_count": 17,
   "metadata": {},
   "outputs": [
    {
     "name": "stdout",
     "output_type": "stream",
     "text": [
      "200\n",
      "[{\"user_id\":\"f2ff08fd-4591-403d-8840-cd5083e4e92c\",\"id\":\"bbf0709b-2bb0-4a2d-b7c6-bd3327907bcc\"}]\n",
      "[{'user_id': 'f2ff08fd-4591-403d-8840-cd5083e4e92c', 'id': 'bbf0709b-2bb0-4a2d-b7c6-bd3327907bcc'}]\n"
     ]
    }
   ],
   "source": [
    "# Obtener todos los usuarios\n",
    "response = requests.get(\"http://localhost:8001/carts/\")\n",
    "\n",
    "print(response.status_code)\n",
    "print(response.text)\n",
    "\n",
    "if response.status_code == 200:\n",
    "    products = response.json()\n",
    "    print(products)"
   ]
  },
  {
   "cell_type": "code",
   "execution_count": 20,
   "metadata": {},
   "outputs": [
    {
     "name": "stdout",
     "output_type": "stream",
     "text": [
      "200\n",
      "{\"user_id\":\"f2ff08fd-4591-403d-8840-cd5083e4e92c\",\"id\":\"bbf0709b-2bb0-4a2d-b7c6-bd3327907bcc\"}\n"
     ]
    }
   ],
   "source": [
    "## Obtener producto por id\n",
    "\n",
    "response = requests.get(\"http://localhost:8001/carts/bbf0709b-2bb0-4a2d-b7c6-bd3327907bcc\")\n",
    "\n",
    "print(response.status_code)\n",
    "print(response.text)"
   ]
  },
  {
   "cell_type": "code",
   "execution_count": 21,
   "metadata": {},
   "outputs": [
    {
     "name": "stdout",
     "output_type": "stream",
     "text": [
      "200\n",
      "{\"id\":\"bbf0709b-2bb0-4a2d-b7c6-bd3327907bcc\",\"user_id\":\"f2ff08fd-4591-403d-8840-cd5083e4e92c\"}\n"
     ]
    }
   ],
   "source": [
    "## Elimitar producto por id\n",
    "\n",
    "response = requests.delete(\"http://localhost:8001/carts/bbf0709b-2bb0-4a2d-b7c6-bd3327907bcc\")\n",
    "\n",
    "print(response.status_code)\n",
    "print(response.text)"
   ]
  },
  {
   "cell_type": "markdown",
   "metadata": {},
   "source": [
    "#Aqui las peticiones de carritoItem\n"
   ]
  },
  {
   "cell_type": "code",
   "execution_count": 26,
   "metadata": {},
   "outputs": [
    {
     "name": "stdout",
     "output_type": "stream",
     "text": [
      "200\n",
      "{}\n",
      "{}\n"
     ]
    }
   ],
   "source": [
    "\n",
    "cart_id = \"414b48be-4ac3-476d-8295-fc46235848e0\"  # Ejemplo de UUID\n",
    "product_id = 2\n",
    "\n",
    "cart_item_data = {\n",
    "    \"cart_id\": cart_id,\n",
    "    \"product_id\" : product_id\n",
    "}\n",
    "\n",
    "response = requests.post(\"http://localhost:8001/carts/414b48be-4ac3-476d-8295-fc46235848e0/items/\", json=cart_item_data)\n",
    "\n",
    "print(response.status_code)\n",
    "print(response.text)\n",
    "\n",
    "if response.status_code == 200:\n",
    "    print(response.json())"
   ]
  },
  {
   "cell_type": "code",
   "execution_count": 27,
   "metadata": {},
   "outputs": [
    {
     "name": "stdout",
     "output_type": "stream",
     "text": [
      "200\n",
      "{}\n",
      "{}\n"
     ]
    }
   ],
   "source": [
    "\n",
    "cart_id = \"414b48be-4ac3-476d-8295-fc46235848e0\"  # Ejemplo de UUID\n",
    "product_id = 3\n",
    "\n",
    "cart_item_data = {\n",
    "    \"cart_id\": cart_id,\n",
    "    \"product_id\" : product_id\n",
    "}\n",
    "\n",
    "response = requests.post(\"http://localhost:8001/carts/414b48be-4ac3-476d-8295-fc46235848e0/items/\", json=cart_item_data)\n",
    "\n",
    "print(response.status_code)\n",
    "print(response.text)\n",
    "\n",
    "if response.status_code == 200:\n",
    "    print(response.json())"
   ]
  },
  {
   "cell_type": "code",
   "execution_count": 28,
   "metadata": {},
   "outputs": [
    {
     "name": "stdout",
     "output_type": "stream",
     "text": [
      "200\n",
      "{\"cart_id\":\"414b48be-4ac3-476d-8295-fc46235848e0\",\"product_id\":\"2\",\"id\":\"5ae62eda-dc9f-4672-b6e9-eadf65ae239a\",\"quantity\":1}\n"
     ]
    }
   ],
   "source": [
    "## Elimitar producto por id\n",
    "\n",
    "response = requests.delete(\"http://localhost:8001/carts/414b48be-4ac3-476d-8295-fc46235848e0/items/5ae62eda-dc9f-4672-b6e9-eadf65ae239a/\")\n",
    "\n",
    "print(response.status_code)\n",
    "print(response.text)"
   ]
  },
  {
   "cell_type": "code",
   "execution_count": 32,
   "metadata": {},
   "outputs": [
    {
     "name": "stdout",
     "output_type": "stream",
     "text": [
      "200\n",
      "{\"cart_id\":\"414b48be-4ac3-476d-8295-fc46235848e0\",\"product_id\":\"3\",\"quantity\":4,\"id\":\"74bba345-958c-4a8f-ac55-962ef8ec5b92\"}\n"
     ]
    }
   ],
   "source": [
    "## Patch CartItem\n",
    "\n",
    "data = {\n",
    "    \"quantity\": 4\n",
    "}\n",
    "\n",
    "response = requests.patch(\"http://localhost:8001/carts/414b48be-4ac3-476d-8295-fc46235848e0/items/74bba345-958c-4a8f-ac55-962ef8ec5b92/\", json=data)\n",
    "\n",
    "print(response.status_code)\n",
    "print(response.text)"
   ]
  }
 ],
 "metadata": {
  "kernelspec": {
   "display_name": "Python 3",
   "language": "python",
   "name": "python3"
  },
  "language_info": {
   "codemirror_mode": {
    "name": "ipython",
    "version": 3
   },
   "file_extension": ".py",
   "mimetype": "text/x-python",
   "name": "python",
   "nbconvert_exporter": "python",
   "pygments_lexer": "ipython3",
   "version": "3.12.8"
  }
 },
 "nbformat": 4,
 "nbformat_minor": 2
}

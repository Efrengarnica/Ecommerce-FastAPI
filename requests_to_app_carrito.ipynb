{
 "cells": [
  {
   "cell_type": "markdown",
   "metadata": {},
   "source": [
    "# Peticiones a Cart"
   ]
  },
  {
   "cell_type": "code",
   "execution_count": 10,
   "metadata": {},
   "outputs": [
    {
     "name": "stdout",
     "output_type": "stream",
     "text": [
      "200\n",
      "{\"id\":\"c0669972-7cb3-4ce0-bf0e-2f419f86718c\",\"user_id\":\"6742b31b-6dd5-4c8f-ae8c-5f0115eb030e\"}\n",
      "{'id': 'c0669972-7cb3-4ce0-bf0e-2f419f86718c', 'user_id': '6742b31b-6dd5-4c8f-ae8c-5f0115eb030e'}\n"
     ]
    }
   ],
   "source": [
    "\n",
    "# POST para Cart\n",
    "\n",
    "# Haciendo requests a nuestra API\n",
    "#Parece ser que esto hace que se pueda hacer una peticion http sin postman.\n",
    "#Request como postman pero sin la interfaz grafica, NO es nativa de puthon pero se intala con\n",
    "#       pip install requests\n",
    "#En mi codigo se permite que un usuario tenga varios carritos, hay que checar si eso es malo.\n",
    "\n",
    "## Request permite como postman enviar mas cosas ademas de cuerpo de la solicitud como headers params etc, aqui no ocupe mas que el cuerpo de la sol.\n",
    "import requests\n",
    "# Necesitas un usuario registrado y conoces su UUID\n",
    "user_id = \"6742b31b-6dd5-4c8f-ae8c-5f0115eb030e\"  \n",
    "cart_data = {\n",
    "    \"user_id\": user_id\n",
    "}\n",
    "response = requests.post(\"http://localhost:8001/carts/\", json = cart_data)\n",
    "print(response.status_code)\n",
    "print(response.text)\n",
    "if response.status_code == 200:\n",
    "    print(response.json())"
   ]
  },
  {
   "cell_type": "code",
   "execution_count": null,
   "metadata": {},
   "outputs": [],
   "source": [
    "# POST para Cart, otro cart\n",
    "\n",
    "# Haciendo requests a nuestra API\n",
    "#Parece ser que esto hace que se pueda hacer una peticion http sin postman\n",
    "import requests\n",
    "# Necesitas un usuario registrado y conoces su UUID\n",
    "user_id = \"ba8bc9e0-d249-4970-b62e-52e36d782d96\"  \n",
    "cart_data = {\n",
    "    \"user_id\": user_id\n",
    "}\n",
    "response = requests.post(\"http://localhost:8001/carts/\", json = cart_data)\n",
    "print(response.status_code)\n",
    "print(response.text)\n",
    "if response.status_code == 200:\n",
    "    print(response.json())"
   ]
  },
  {
   "cell_type": "code",
   "execution_count": null,
   "metadata": {},
   "outputs": [],
   "source": [
    "# GET para Carts\n",
    "\n",
    "# Obtener todos los cart\n",
    "response = requests.get(\"http://localhost:8001/carts/\")\n",
    "print(response.status_code)\n",
    "print(response.text)\n",
    "if response.status_code == 200:\n",
    "    products = response.json()\n",
    "    print(products)"
   ]
  },
  {
   "cell_type": "code",
   "execution_count": null,
   "metadata": {},
   "outputs": [],
   "source": [
    "# GET para Cart\n",
    "\n",
    "# Obtener un cart por si id\n",
    "#Aqui a difrencia de conseguir todos los carts ya aprece los items asociados al cart ya que en el código\n",
    "#decidi que solo renderice los items cuando se manda a llamar a un solo cart\n",
    "response = requests.get(\"http://localhost:8001/carts/c70f5b94-f370-4fd0-bc34-56a951665800\")\n",
    "print(response.status_code)\n",
    "print(response.text)"
   ]
  },
  {
   "cell_type": "code",
   "execution_count": null,
   "metadata": {},
   "outputs": [],
   "source": [
    "# DELETE para Cart\n",
    "\n",
    "#Elimitar cart por id\n",
    "response = requests.delete(\"http://localhost:8001/carts/cdb4b40a-5092-4239-aa91-851f8922a8a2\")\n",
    "print(response.status_code)\n",
    "print(response.text)"
   ]
  },
  {
   "cell_type": "markdown",
   "metadata": {},
   "source": [
    "# Peticiones a CarritoItem\n"
   ]
  },
  {
   "cell_type": "code",
   "execution_count": 11,
   "metadata": {},
   "outputs": [
    {
     "name": "stdout",
     "output_type": "stream",
     "text": [
      "200\n",
      "{\"cart_id\":\"c0669972-7cb3-4ce0-bf0e-2f419f86718c\",\"product_id\":1,\"id\":\"831cd5ba-704e-4f82-859a-543d2cc4feab\",\"quantity\":1}\n",
      "{'cart_id': 'c0669972-7cb3-4ce0-bf0e-2f419f86718c', 'product_id': 1, 'id': '831cd5ba-704e-4f82-859a-543d2cc4feab', 'quantity': 1}\n"
     ]
    }
   ],
   "source": [
    "# POST para CartItem\n",
    "\n",
    "#Requieres un carrito que ya exista y un producto que ya exista, rquieres sus ids\n",
    "cart_id = \"c0669972-7cb3-4ce0-bf0e-2f419f86718c\" \n",
    "product_id = 1\n",
    "cart_item_data = {\n",
    "    \"cart_id\": cart_id,\n",
    "    \"product_id\" : product_id\n",
    "}\n",
    "response = requests.post(\"http://localhost:8001/carts/c0669972-7cb3-4ce0-bf0e-2f419f86718c/items/\", json = cart_item_data)\n",
    "print(response.status_code)\n",
    "print(response.text)\n",
    "if response.status_code == 200:\n",
    "    print(response.json())"
   ]
  },
  {
   "cell_type": "code",
   "execution_count": null,
   "metadata": {},
   "outputs": [],
   "source": [
    "# POST para CartItem\n",
    "\n",
    "#Requieres un carrito que ya exista y un producto que ya exista, rquieres sus ids\n",
    "cart_id = \"c4d3e2c1-8070-40d1-9aea-76db0e2d6390\"  # Ejemplo de UUID\n",
    "product_id = 1\n",
    "cart_item_data = {\n",
    "    \"cart_id\": cart_id,\n",
    "    \"product_id\" : product_id\n",
    "}\n",
    "response = requests.post(\"http://localhost:8001/carts/c4d3e2c1-8070-40d1-9aea-76db0e2d6390/items/\", json = cart_item_data)\n",
    "print(response.status_code)\n",
    "print(response.text)\n",
    "if response.status_code == 200:\n",
    "    print(response.json())"
   ]
  },
  {
   "cell_type": "code",
   "execution_count": null,
   "metadata": {},
   "outputs": [],
   "source": [
    "# DELETE para CartItem\n",
    "\n",
    "#Elimitar cartItem por id\n",
    "# Aqui se necesita el id del carrito y el id del carritoItem\n",
    "response = requests.delete(\"http://localhost:8001/carts/7eaaaff0-c770-4f2d-ad84-46302da32329/items/0304e027-7f71-4b96-8041-d214555b38bc\")\n",
    "print(response.status_code)\n",
    "print(response.text)"
   ]
  },
  {
   "cell_type": "code",
   "execution_count": null,
   "metadata": {},
   "outputs": [],
   "source": [
    "# PATCH para CarritoItem \n",
    "\n",
    "# Aqui con el patch decidi solo poder modificar la cantidad de ese producto\n",
    "# Requieres la data, la cantidad del producto, el id del carrito y el id del carritoItem\n",
    "data = {\n",
    "    \"quantity\": 4\n",
    "}\n",
    "response = requests.patch(\"http://localhost:8001/carts/c70f5b94-f370-4fd0-bc34-56a951665800/items/98511808-2d62-4d12-9474-875f0a1e51e3\", json = data)\n",
    "print(response.status_code)\n",
    "print(response.text)"
   ]
  }
 ],
 "metadata": {
  "kernelspec": {
   "display_name": "Python 3",
   "language": "python",
   "name": "python3"
  },
  "language_info": {
   "codemirror_mode": {
    "name": "ipython",
    "version": 3
   },
   "file_extension": ".py",
   "mimetype": "text/x-python",
   "name": "python",
   "nbconvert_exporter": "python",
   "pygments_lexer": "ipython3",
   "version": "3.12.8"
  }
 },
 "nbformat": 4,
 "nbformat_minor": 2
}

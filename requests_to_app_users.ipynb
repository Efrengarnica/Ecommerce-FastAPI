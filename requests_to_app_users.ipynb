{
 "cells": [
  {
   "cell_type": "code",
   "execution_count": null,
   "metadata": {},
   "outputs": [
    {
     "name": "stdout",
     "output_type": "stream",
     "text": [
      "400\n",
      "{\"detail\":\"Email already registered\"}\n"
     ]
    }
   ],
   "source": [
    "# Haciendo requests a nuestra API\n",
    "import requests\n",
    "\n",
    "user = {\n",
    "    \"name\": 60,\n",
    "    \"email\": 309,\n",
    "    \"age\": 30,\n",
    "    \"password\": \"Holas\"\n",
    "}\n",
    "\n",
    "\n",
    "response = requests.post(\"http://localhost:8001/users/\", json=user)\n",
    "\n",
    "\n",
    "print(response.status_code)\n",
    "print(response.text)\n",
    "\n",
    "if response.status_code == 200:\n",
    "    print(response.json())"
   ]
  },
  {
   "cell_type": "code",
   "execution_count": 5,
   "metadata": {},
   "outputs": [
    {
     "name": "stdout",
     "output_type": "stream",
     "text": [
      "200\n",
      "{\"password\":\"HolaJuan\",\"name\":\"Juan\",\"id\":\"f2ff08fd-4591-403d-8840-cd5083e4e92c\",\"email\":\"juan@email.com\",\"age\":25}\n",
      "200\n",
      "{\"password\":\"HolaMaria\",\"name\":\"Maria\",\"id\":\"8b4d893c-7ccd-43e2-88d1-22de7c8163d3\",\"email\":\"maria@email.com\",\"age\":22}\n"
     ]
    }
   ],
   "source": [
    "## Agregar más usuarios\n",
    "\n",
    "users = [\n",
    "    {\n",
    "        \"name\": \"Juan\",\n",
    "        \"email\": \"juan@email.com\",\n",
    "        \"age\": 25,\n",
    "        \"password\": \"HolaJuan\"\n",
    "    },\n",
    "    {\n",
    "        \"name\": \"Maria\",\n",
    "        \"email\": \"maria@email.com\",\n",
    "        \"age\": 22 ,\n",
    "        \"password\": \"HolaMaria\"\n",
    "    }\n",
    "]\n",
    "\n",
    "for user in users:\n",
    "    response = requests.post(\"http://localhost:8001/users/\", json=user)\n",
    "    \n",
    "    print(response.status_code)\n",
    "    print(response.text)"
   ]
  },
  {
   "cell_type": "code",
   "execution_count": null,
   "metadata": {},
   "outputs": [],
   "source": [
    "# Obtener todos los usuarios\n",
    "response = requests.get(\"http://localhost:8001/users/\")\n",
    "\n",
    "print(response.status_code)\n",
    "print(response.text)\n",
    "\n",
    "if response.status_code == 200:\n",
    "    users = response.json()\n",
    "    print(users)"
   ]
  },
  {
   "cell_type": "code",
   "execution_count": null,
   "metadata": {},
   "outputs": [],
   "source": [
    "## Obtener usuario por id\n",
    "\n",
    "response = requests.get(\"http://localhost:8001/users/8f01a590-3b93-4953-9495-e4d5aaf51bdc\")\n",
    "\n",
    "print(response.status_code)\n",
    "print(response.text)\n"
   ]
  },
  {
   "cell_type": "code",
   "execution_count": null,
   "metadata": {},
   "outputs": [],
   "source": [
    "## Elimitar usuario por id\n",
    "\n",
    "response = requests.delete(\"http://localhost:8001/users/9cbe91ef-164c-4701-b535-16fd480d1c54\")\n",
    "\n",
    "print(response.status_code)\n",
    "print(response.text)"
   ]
  },
  {
   "cell_type": "code",
   "execution_count": null,
   "metadata": {},
   "outputs": [],
   "source": [
    "## Updating the user completely\n",
    "\n",
    "user = {\n",
    "    \"id\": \"9cbe91ef-164c-4701-b535-16fd480d1c54\",\n",
    "    \"name\": \"Juan\",\n",
    "    \"email\": \"juan@email.com\",\n",
    "    \"age\": 25,\n",
    "    \"password\": \"HolaJuan\"\n",
    "}\n",
    "\n",
    "response = requests.put(\"http://localhost:8001/users/9cbe91ef-164c-4701-b535-16fd480d1c54\", json=user)\n",
    "\n",
    "print(response.status_code)\n",
    "print(response.text)"
   ]
  },
  {
   "cell_type": "code",
   "execution_count": 8,
   "metadata": {},
   "outputs": [
    {
     "name": "stdout",
     "output_type": "stream",
     "text": [
      "200\n",
      "{\"password\":\"HolaMaria\",\"name\":\"MARIA\",\"id\":\"1602827b-bcef-4aa6-8776-c0c9716f7694\",\"email\":\"MARIA@email.com\",\"age\":22}\n"
     ]
    }
   ],
   "source": [
    "## Patch user\n",
    "\n",
    "data = {\n",
    "    \"email\": \"MARIA@email.com\",\n",
    "    \"name\": \"MARIA\"\n",
    "}\n",
    "\n",
    "response = requests.patch(\"http://localhost:8001/users/1602827b-bcef-4aa6-8776-c0c9716f7694\", json=data)\n",
    "\n",
    "print(response.status_code)\n",
    "print(response.text)"
   ]
  },
  {
   "cell_type": "code",
   "execution_count": 9,
   "metadata": {},
   "outputs": [
    {
     "name": "stdout",
     "output_type": "stream",
     "text": [
      "200\n",
      "<h1>Hello, HTML User!</h1>\n"
     ]
    }
   ],
   "source": [
    "## Obtener usuario por id\n",
    "\n",
    "response = requests.get(\"http://localhost:8001/users/html/\")\n",
    "\n",
    "print(response.status_code)\n",
    "print(response.text)"
   ]
  },
  {
   "cell_type": "code",
   "execution_count": 14,
   "metadata": {},
   "outputs": [
    {
     "name": "stdout",
     "output_type": "stream",
     "text": [
      "200\n",
      "Hello, Plain User!\n"
     ]
    }
   ],
   "source": [
    "## Obtener usuario por id\n",
    "\n",
    "response = requests.get(\"http://localhost:8001/users/plain/\")\n",
    "\n",
    "print(response.status_code)\n",
    "print(response.text)"
   ]
  },
  {
   "cell_type": "code",
   "execution_count": 16,
   "metadata": {},
   "outputs": [
    {
     "name": "stdout",
     "output_type": "stream",
     "text": [
      "200\n",
      "Hello, Plain User!\n"
     ]
    }
   ],
   "source": [
    "\n",
    "\n",
    "response = requests.get(\"http://localhost:8001/users/redirect/\")\n",
    "\n",
    "print(response.status_code)\n",
    "print(response.text)"
   ]
  },
  {
   "cell_type": "code",
   "execution_count": null,
   "metadata": {},
   "outputs": [
    {
     "name": "stdout",
     "output_type": "stream",
     "text": [
      "200\n",
      "{\"message\":\"Hello, JSON User!\"}\n"
     ]
    }
   ],
   "source": [
    "response = requests.get(\"http://localhost:8001/users/json/\")\n",
    "\n",
    "print(response.status_code)\n",
    "print(response.text)"
   ]
  }
 ],
 "metadata": {
  "kernelspec": {
   "display_name": "Python 3",
   "language": "python",
   "name": "python3"
  },
  "language_info": {
   "codemirror_mode": {
    "name": "ipython",
    "version": 3
   },
   "file_extension": ".py",
   "mimetype": "text/x-python",
   "name": "python",
   "nbconvert_exporter": "python",
   "pygments_lexer": "ipython3",
   "version": "3.12.8"
  }
 },
 "nbformat": 4,
 "nbformat_minor": 2
}

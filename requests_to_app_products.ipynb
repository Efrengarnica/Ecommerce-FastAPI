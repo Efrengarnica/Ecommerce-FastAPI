{
 "cells": [
  {
   "cell_type": "code",
   "execution_count": 8,
   "metadata": {},
   "outputs": [
    {
     "name": "stdout",
     "output_type": "stream",
     "text": [
      "400\n",
      "{\"detail\":\"Product name already registered\"}\n"
     ]
    }
   ],
   "source": [
    "# Haciendo requests a nuestra API\n",
    "import requests\n",
    "\n",
    "product = {\n",
    "    \"name\": \"Chamarra\",\n",
    "    \"price\": 20,\n",
    "    \"category\": \"Hombre\"\n",
    "}\n",
    "\n",
    "\n",
    "response = requests.post(\"http://localhost:8001/products/\", json=product)\n",
    "\n",
    "\n",
    "print(response.status_code)\n",
    "print(response.text)\n",
    "\n",
    "if response.status_code == 200:\n",
    "    print(response.json())"
   ]
  },
  {
   "cell_type": "code",
   "execution_count": 13,
   "metadata": {},
   "outputs": [
    {
     "name": "stdout",
     "output_type": "stream",
     "text": [
      "200\n",
      "[{\"name\":\"Chamarra\",\"price\":20.0,\"category\":\"Hombre\",\"id\":1},{\"name\":\"Pantalon rasgado\",\"price\":24.0,\"category\":\"Hombre\",\"id\":2},{\"name\":\"Chamarra trex\",\"price\":40.0,\"category\":\"Mujer\",\"id\":3}]\n",
      "[{'name': 'Chamarra', 'price': 20.0, 'category': 'Hombre', 'id': 1}, {'name': 'Pantalon rasgado', 'price': 24.0, 'category': 'Hombre', 'id': 2}, {'name': 'Chamarra trex', 'price': 40.0, 'category': 'Mujer', 'id': 3}]\n"
     ]
    }
   ],
   "source": [
    "# Obtener todos los usuarios\n",
    "response = requests.get(\"http://localhost:8001/products/\")\n",
    "\n",
    "print(response.status_code)\n",
    "print(response.text)\n",
    "\n",
    "if response.status_code == 200:\n",
    "    products = response.json()\n",
    "    print(products)"
   ]
  },
  {
   "cell_type": "code",
   "execution_count": 12,
   "metadata": {},
   "outputs": [
    {
     "name": "stdout",
     "output_type": "stream",
     "text": [
      "400\n",
      "{'detail': 'Product name already registered'}\n",
      "400\n",
      "{'detail': 'Product name already registered'}\n"
     ]
    }
   ],
   "source": [
    "## Agregar más usuarios\n",
    "\n",
    "products = [\n",
    "    {\n",
    "    \"name\": \"Pantalon rasgado\",\n",
    "    \"price\": 24,\n",
    "    \"category\": \"Hombre\"\n",
    "    },\n",
    "    {\n",
    "    \"name\": \"Chamarra trex\",\n",
    "    \"price\": 40,\n",
    "    \"category\": \"Mujer\"\n",
    "    }          \n",
    "]\n",
    "\n",
    "for product in products:\n",
    "    response = requests.post(\"http://localhost:8001/products/\", json=product)\n",
    "    \n",
    "    print(response.status_code)\n",
    "    print(response.json())"
   ]
  },
  {
   "cell_type": "code",
   "execution_count": 15,
   "metadata": {},
   "outputs": [
    {
     "name": "stdout",
     "output_type": "stream",
     "text": [
      "200\n",
      "{\"name\":\"Pantalon rasgado\",\"price\":24.0,\"id\":2,\"category\":\"Hombre\"}\n"
     ]
    }
   ],
   "source": [
    "## Obtener producto por id\n",
    "\n",
    "response = requests.get(\"http://localhost:8001/products/2\")\n",
    "\n",
    "print(response.status_code)\n",
    "print(response.text)"
   ]
  },
  {
   "cell_type": "code",
   "execution_count": 16,
   "metadata": {},
   "outputs": [
    {
     "name": "stdout",
     "output_type": "stream",
     "text": [
      "200\n",
      "{\"name\":\"Pantalon rasgado\",\"price\":24.0,\"id\":2,\"category\":\"Hombre\"}\n"
     ]
    }
   ],
   "source": [
    "## Elimitar producto por id\n",
    "\n",
    "response = requests.delete(\"http://localhost:8001/products/2\")\n",
    "\n",
    "print(response.status_code)\n",
    "print(response.text)"
   ]
  },
  {
   "cell_type": "code",
   "execution_count": null,
   "metadata": {},
   "outputs": [
    {
     "name": "stdout",
     "output_type": "stream",
     "text": [
      "200\n",
      "{\"name\":\"Chamarra Trex 2\",\"price\":40.0,\"id\":3,\"category\":\"Hombre\"}\n"
     ]
    }
   ],
   "source": [
    "## Updating the product completely\n",
    "\n",
    "product = {\n",
    "    \"id\": 3,\n",
    "    \"name\": \"Chamarra Trex 2\",\n",
    "    \"price\": 40,\n",
    "    \"category\": \"Hombre\"\n",
    "}\n",
    "\n",
    "response = requests.put(\"http://localhost:8001/products/3\", json=product)\n",
    "\n",
    "print(response.status_code)\n",
    "print(response.text)"
   ]
  },
  {
   "cell_type": "code",
   "execution_count": 21,
   "metadata": {},
   "outputs": [
    {
     "name": "stdout",
     "output_type": "stream",
     "text": [
      "200\n",
      "{\"name\":\"Chamarra Trex 3\",\"price\":40.0,\"id\":3,\"category\":\"Mujer\"}\n"
     ]
    }
   ],
   "source": [
    "## Patch user\n",
    "\n",
    "data = {\n",
    "    \"category\": \"Mujer\"\n",
    "}\n",
    "\n",
    "response = requests.patch(\"http://localhost:8001/products/3\", json=data)\n",
    "\n",
    "print(response.status_code)\n",
    "print(response.text)"
   ]
  }
 ],
 "metadata": {
  "kernelspec": {
   "display_name": "Python 3",
   "language": "python",
   "name": "python3"
  },
  "language_info": {
   "codemirror_mode": {
    "name": "ipython",
    "version": 3
   },
   "file_extension": ".py",
   "mimetype": "text/x-python",
   "name": "python",
   "nbconvert_exporter": "python",
   "pygments_lexer": "ipython3",
   "version": "3.12.8"
  }
 },
 "nbformat": 4,
 "nbformat_minor": 2
}
